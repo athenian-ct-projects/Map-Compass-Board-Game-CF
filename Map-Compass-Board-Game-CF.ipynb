{
  "nbformat": 4,
  "nbformat_minor": 0,
  "metadata": {
    "colab": {
      "name": "Map and Compass Board Game CF",
      "provenance": [],
      "collapsed_sections": [],
      "include_colab_link": true
    },
    "kernelspec": {
      "name": "python3",
      "display_name": "Python 3"
    }
  },
  "cells": [
    {
      "cell_type": "markdown",
      "metadata": {
        "id": "view-in-github",
        "colab_type": "text"
      },
      "source": [
        "<a href=\"https://colab.research.google.com/github/athenian-ct-projects/Map-and-Compass-Day/blob/master/Map_and_Compass_Board_Game_CF.ipynb\" target=\"_parent\"><img src=\"https://colab.research.google.com/assets/colab-badge.svg\" alt=\"Open In Colab\"/></a>"
      ]
    },
    {
      "cell_type": "markdown",
      "metadata": {
        "id": "xeHCSOiavwHJ",
        "colab_type": "text"
      },
      "source": [
        "Map & Compass Board Game\n",
        "\n",
        "Clara F '23"
      ]
    },
    {
      "cell_type": "markdown",
      "metadata": {
        "id": "-Cj4ig-Dv3Ch",
        "colab_type": "text"
      },
      "source": [
        "Instructions:\n",
        "\n",
        "Start at the entrance. Choose a destination and collect the colored coins.\n",
        "\n",
        "\n",
        "1.   Chocolate house (pink)\n",
        "2.   Boba pond (orange)\n",
        "3.   Oreo Castle (blue)\n",
        "4.   M&M beach (yellow)\n",
        "\n",
        "All the coins are on the way. Players need to go to the way that has their coins on it. They need to read the whole map (the board) first to make sure they are always on the right way. They will make several decisions. If they fall on anything, the game will be over. There are numbers on the different ways when people need to choose which way to go. When the players get into the place “somewhere”, they need to click on the next section. There will be a count-down. After the 10 seconds count-down, someone needs to click on the last section. The player needs to choose a way and follow the way to get into the destiny they chose. If they didn’t get into the one they chose, they will fail this game."
      ]
    },
    {
      "cell_type": "code",
      "metadata": {
        "colab_type": "code",
        "id": "Flb9WDEmgFvy",
        "outputId": "dcf5d1eb-9a08-4056-98e9-f7bd5ac74c4a",
        "colab": {
          "base_uri": "https://localhost:8080/",
          "height": 153
        }
      },
      "source": [
        "def BE1():\n",
        "  print (\"you keep walking and fall down the cliff\")\n",
        "def BE2():\n",
        "  print (\"A ghost kills you\")\n",
        "destination = input(\"Welcome to the forest. Now you are in the entrance of the forest. Choose a destination. \\n1:Chocolate House. \\n2:Boba Pond. \\n3:Oreo Castle. \\n4:M&M Beach \\n\")\n",
        "Q = (\"which way do you want to go\")\n",
        "way = input(\"which way do you want to go first? \")\n",
        "if way == \"2\":\n",
        "  print(\"you are in somewhere.\")\n",
        "if way == \"1\":\n",
        "  way1 = input (\"which way do you want to go next? \")\n",
        "  if way1 == \"1\":\n",
        "    BE1()\n",
        "  if way1 == \"2\":\n",
        "    decision = input(\"What do you need to do when you see the sign? \")\n",
        "    if decision == \"turn left\":\n",
        "      way1 = \"3\"\n",
        "  if way1 == \"3\":\n",
        "    Exit = input (Q)\n",
        "    if Exit == \"a\":\n",
        "      BE1()\n",
        "    if Exit ==\"d\":\n",
        "      BE2()\n",
        "    if Exit == \"b\" or \"c\":\n",
        "      way1x2 = input(Q)\n",
        "      if way1x2 == \"1\":\n",
        "        BE1()\n",
        "      if way1x2 == \"2\":\n",
        "        print(\"You are in somewhere\")\n",
        "if way == \"3\":\n",
        "  way3 = input(Q)\n",
        "  if way3 == \"2\":\n",
        "    way3x2 = input (Q)\n",
        "    if way3x2 == \"1\":\n",
        "      BE1()\n",
        "    if way3x2 == \"2\":\n",
        "      BE2()\n",
        "  if way3 == \"1\":\n",
        "    way3x1 = input(\"Do you want to turn right? \")\n",
        "    if way3x1 == \"yes\":\n",
        "      BE2()\n",
        "    if way3x1 == \"no\":\n",
        "      way3x1x1 = input (\"Do you want to go to the lake or keep going? \")\n",
        "      if way3x1x1 ==\"keep going\":\n",
        "        print(\"You are in somewhere\")\n",
        "      else: \n",
        "          while way3x1x1 == \"go to the lake\":\n",
        "            way3x1x1 = input (\"you walk around the lake for five hours, and now do you want to turn left or go to the lake? \")\n",
        "          else:\n",
        "            way3x1x1x1 = input (Q)\n",
        "            if way3x1x1x1 == \"1\":\n",
        "              BE2()\n",
        "            else:\n",
        "              print (\"You go back to the right way and then you walk into somewhere.\")"
      ],
      "execution_count": 0,
      "outputs": [
        {
          "output_type": "stream",
          "text": [
            "Welcome to the forest. Now you are in the entrance of the forest. Choose a destination. \n",
            "1:Chocolate House. \n",
            "2:Boba Pond. \n",
            "3:Oreo Castle. \n",
            "4:M&M Beach \n",
            "4\n",
            "which way do you want to go first? 2\n",
            "you are in somewhere.\n"
          ],
          "name": "stdout"
        }
      ]
    },
    {
      "cell_type": "code",
      "metadata": {
        "colab_type": "code",
        "id": "DKZubE1lgEFa",
        "outputId": "e7c5a0bb-4f6c-4b1b-a2ae-6712084f24f4",
        "colab": {
          "base_uri": "https://localhost:8080/",
          "height": 187
        }
      },
      "source": [
        "import time\n",
        "\n",
        "for i in range(10,0,-1):\n",
        "  time.sleep(0.5)\n",
        "  print (i)"
      ],
      "execution_count": 0,
      "outputs": [
        {
          "output_type": "stream",
          "text": [
            "10\n",
            "9\n",
            "8\n",
            "7\n",
            "6\n",
            "5\n",
            "4\n",
            "3\n",
            "2\n",
            "1\n"
          ],
          "name": "stdout"
        }
      ]
    },
    {
      "cell_type": "code",
      "metadata": {
        "id": "I82H-kUEKxyq",
        "colab_type": "code",
        "outputId": "1ccd894a-6783-4a2e-ea4f-bb327c598ebf",
        "colab": {
          "base_uri": "https://localhost:8080/",
          "height": 119
        }
      },
      "source": [
        "def wrong():\n",
        "  print (\"you got into the wrong place! get out of the forest!\")\n",
        "Q = (\"Which way do you wanna go?\")\n",
        "a = input(\"You get out of the place. Hold on to the coins you collected, choose the right way to leave!\")\n",
        "if a == \"1\":\n",
        "  print(\"You walk into a village, find your way out\")\n",
        "  print(\"you get into a maze in front of the catsle, get out and keep going\")\n",
        "  check1 = input(\"Do you have two yellow coins in your pocket?\")\n",
        "  if check1 == \"yes\":\n",
        "    Print (\"Welcome to the M&M Beach. Hope you enjoy your trip. However, due to the globle warming, the iceberg melted and the sea level rised and covered the beach. You get nothing.\")\n",
        "  else:\n",
        "    wrong()\n",
        "if a == \"2\":\n",
        "  a1 = input(\"There's a river right in front of you. Type 1 to go across the brocken bridge. Type 2 to keep going.\")\n",
        "  if a1 == \"1\":\n",
        "    print (\"the bridge is really unstable. You fell in to the water accidentally.\")\n",
        "  if a1 == \"2\":\n",
        "    print (\"you get into a maze in front of the oreo castle.\")\n",
        "    check2 = input(\"do you have 2 blue coins in your pocket?\")\n",
        "    if check2 == \"yes\":\n",
        "      print (\"Congrats! You are in the Oreo castle! Hope you had a wonderful trip. Sadly, the Oreo Castle collapsed during an earthquike. There's no Oreos for you.\")\n",
        "    wrong()\n",
        "if a == \"3\":\n",
        "  a2 = input (Q)\n",
        "  if a2 == \"2\":\n",
        "    print (\"you walk and walk and walk and walk into the lake at the end.\")\n",
        "  if a2 == \"1\":\n",
        "    check3 = input(\"Do you have 2 orange coins in your pocket?\")\n",
        "    if check3 ==\"yes\":\n",
        "      print(\"Good job! you are in the Boba pond now! Hope you like the forest. I'm sorry to tell you that there's a factory releasing chemical pollution in the boba pond. The Boba Pond is poison now. You cannot drink the boba.\")\n",
        "    else:\n",
        "      wrong()\n",
        "if a == \"4\":\n",
        "  a4 = input (Q)\n",
        "  if a4 == \"2\" :\n",
        "    print(\"The got caught by the guard of the oreo castle. He through you out of the forest\")\n",
        "  if a4 == \"1\":\n",
        "    print (\"You walk into a village. Find your way out\")\n",
        "    check4 = input(\"do you have 2 pink coins in your pocket?\")\n",
        "    if check4 == \"yes\":\n",
        "      print (\"👏👍👍👍You finally get to the chocolate house! But all the chocolate melted because of the globle warming\")\n",
        "    else:\n",
        "      wrong()"
      ],
      "execution_count": 0,
      "outputs": [
        {
          "output_type": "stream",
          "text": [
            "You get out of the place. Hold on to the coins you collected, choose the right way to leave!2\n",
            "There's a river right in front of you. Type 1 to go across the brocken bridge. Type 2 to keep going.2\n",
            "you get into a maze in front of the oreo castle.\n",
            "do you have 2 blue coins in your pocket?yes\n",
            "Congrats! You are in the Oreo castle! Hope you had a wonderful trip. Sadly, the Oreo Castle collapsed during an earthquike. There's no Oreos for you.\n",
            "you got into the wrong place! get out of the forest!\n"
          ],
          "name": "stdout"
        }
      ]
    }
  ]
}
